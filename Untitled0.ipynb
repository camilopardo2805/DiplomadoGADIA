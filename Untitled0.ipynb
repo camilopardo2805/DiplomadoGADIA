{
  "nbformat": 4,
  "nbformat_minor": 0,
  "metadata": {
    "colab": {
      "provenance": [],
      "toc_visible": true,
      "authorship_tag": "ABX9TyPhj2N2utv+U4qdnBzqyZf2",
      "include_colab_link": true
    },
    "kernelspec": {
      "name": "python3",
      "display_name": "Python 3"
    },
    "language_info": {
      "name": "python"
    }
  },
  "cells": [
    {
      "cell_type": "markdown",
      "metadata": {
        "id": "view-in-github",
        "colab_type": "text"
      },
      "source": [
        "<a href=\"https://colab.research.google.com/github/camilopardo2805/DiplomadoGADIA/blob/main/Untitled0.ipynb\" target=\"_parent\"><img src=\"https://colab.research.google.com/assets/colab-badge.svg\" alt=\"Open In Colab\"/></a>"
      ]
    },
    {
      "cell_type": "code",
      "execution_count": null,
      "metadata": {
        "id": "tlwnH9URorT3"
      },
      "outputs": [],
      "source": []
    },
    {
      "cell_type": "markdown",
      "source": [
        "**Introducción a python**\n",
        "\n",
        "Diplomado en Gobierno y Analitica de Datos\n",
        "\n",
        "Fundacion Universitaria Cafam\n",
        "\n",
        "Docente: Nicolas Mojica Gomez\n",
        "\n",
        "Estudiante: Camilo Andres Pardo Mercado\n",
        "\n",
        "\n",
        "---\n",
        "\n"
      ],
      "metadata": {
        "id": "1dgTZtrCqtdO"
      }
    },
    {
      "cell_type": "markdown",
      "source": [
        "## 1. Comentario en los códigos\n",
        "\n",
        "Para comentar códigos en python existen diferentes formas de crear comentarios, esto nos permite comentar nustras secuencias de comandos para su analisis o posterior modificación."
      ],
      "metadata": {
        "id": "_5g8w41vvfBi"
      }
    },
    {
      "cell_type": "code",
      "source": [
        "#Este cometario es de una sola linea\n",
        "#Python es un programa sencible a las mayusculas y las minuscula\n",
        "print(\"Hola mundo\")"
      ],
      "metadata": {
        "colab": {
          "base_uri": "https://localhost:8080/"
        },
        "id": "s5Gom5XQvfxi",
        "outputId": "9018cd07-37ad-4c7e-b2f8-9bf2514798d2"
      },
      "execution_count": null,
      "outputs": [
        {
          "output_type": "stream",
          "name": "stdout",
          "text": [
            "Hola mundo\n"
          ]
        }
      ]
    },
    {
      "cell_type": "code",
      "source": [
        "'''\n",
        "Este es un comentario de multiple lineas\n",
        "puede extenderse en varias linea\n",
        "'''\n",
        "print(\"Hola mundo\")"
      ],
      "metadata": {
        "colab": {
          "base_uri": "https://localhost:8080/"
        },
        "id": "i-MvtzC2vv_y",
        "outputId": "0a049509-28b6-4e73-8ac0-56685f9595ef"
      },
      "execution_count": null,
      "outputs": [
        {
          "output_type": "stream",
          "name": "stdout",
          "text": [
            "Hola mundo\n"
          ]
        }
      ]
    },
    {
      "cell_type": "code",
      "source": [],
      "metadata": {
        "id": "inojPZDRwTip"
      },
      "execution_count": null,
      "outputs": []
    },
    {
      "cell_type": "markdown",
      "source": [
        "## 2. Variables\n",
        "\n",
        "una variable es un elemento de un leguaje de programacion que tiene asgnado un valor determinado"
      ],
      "metadata": {
        "id": "ehXNc7YxwWMY"
      }
    },
    {
      "cell_type": "code",
      "source": [
        "## Para crear una variable en python se le debe proporcionar un nombre y se le debe asignar un valor usando un \"=\"\n",
        "var=\"Hola mundo\"\n",
        "print(var)"
      ],
      "metadata": {
        "colab": {
          "base_uri": "https://localhost:8080/"
        },
        "id": "yyPG1pu5w2FF",
        "outputId": "f6e49a9f-1ec3-44df-ae03-01dec5303d5e"
      },
      "execution_count": null,
      "outputs": [
        {
          "output_type": "stream",
          "name": "stdout",
          "text": [
            "Hola mundo\n"
          ]
        }
      ]
    },
    {
      "cell_type": "code",
      "source": [
        "## Las variables puede cambiar a lo largo del programa en python\n",
        "var=\"Adios mundo\"\n",
        "print(var)"
      ],
      "metadata": {
        "colab": {
          "base_uri": "https://localhost:8080/"
        },
        "id": "6SZevTDfxb4m",
        "outputId": "62045e01-dee2-40d6-92e4-10b73ed30d96"
      },
      "execution_count": null,
      "outputs": [
        {
          "output_type": "stream",
          "name": "stdout",
          "text": [
            "Adios mundo\n"
          ]
        }
      ]
    },
    {
      "cell_type": "code",
      "source": [
        "## Las variables en python son sencibles a las mayuculas y a las minuscula\n"
      ],
      "metadata": {
        "id": "VF8tRaBByEt3"
      },
      "execution_count": null,
      "outputs": []
    },
    {
      "cell_type": "markdown",
      "source": [
        "3. Tipos de datos"
      ],
      "metadata": {
        "id": "RnOXgTH96tIs"
      }
    },
    {
      "cell_type": "code",
      "source": [
        "#tipos de datos numericos\n",
        "entero=42\n",
        "# en la mayor parte de lenguaje de programacion los enteros son representados con \"int\n"
      ],
      "metadata": {
        "id": "cSAcoEph6wy-"
      },
      "execution_count": null,
      "outputs": []
    },
    {
      "cell_type": "code",
      "source": [
        "# tipo de datos flotante\n",
        "flotante=3.14151"
      ],
      "metadata": {
        "id": "NsoQ9TUK7B-r"
      },
      "execution_count": null,
      "outputs": []
    },
    {
      "cell_type": "code",
      "source": [
        "#conversion de los tipos de datos\n",
        "#convertir un flotante a un numero entero\n",
        "entero=int(3.14)\n",
        "print(entero)\n"
      ],
      "metadata": {
        "colab": {
          "base_uri": "https://localhost:8080/"
        },
        "id": "nOzGpBXz7OxD",
        "outputId": "3e84b7d1-a0ea-4159-c7ae-bde664db0956"
      },
      "execution_count": null,
      "outputs": [
        {
          "output_type": "stream",
          "name": "stdout",
          "text": [
            "3\n"
          ]
        }
      ]
    },
    {
      "cell_type": "code",
      "source": [
        "#converti entero a flotante\n",
        "flotante=float(5)\n",
        "print(flotante)"
      ],
      "metadata": {
        "colab": {
          "base_uri": "https://localhost:8080/"
        },
        "id": "NobUPipH7n9r",
        "outputId": "483922cc-4540-4ed6-ec40-223e66432f86"
      },
      "execution_count": null,
      "outputs": [
        {
          "output_type": "stream",
          "name": "stdout",
          "text": [
            "5.0\n"
          ]
        }
      ]
    },
    {
      "cell_type": "code",
      "source": [
        "##4. Operadores aritmeticos\n",
        "\n"
      ],
      "metadata": {
        "colab": {
          "base_uri": "https://localhost:8080/",
          "height": 106
        },
        "id": "L32uHRu97w3n",
        "outputId": "d4e82693-e224-43d5-c058-1bf7fdf876aa"
      },
      "execution_count": null,
      "outputs": [
        {
          "output_type": "error",
          "ename": "SyntaxError",
          "evalue": "invalid syntax (<ipython-input-10-1d32d96f52aa>, line 3)",
          "traceback": [
            "\u001b[0;36m  File \u001b[0;32m\"<ipython-input-10-1d32d96f52aa>\"\u001b[0;36m, line \u001b[0;32m3\u001b[0m\n\u001b[0;31m    Los operadoresmatemetico\u001b[0m\n\u001b[0m        ^\u001b[0m\n\u001b[0;31mSyntaxError\u001b[0m\u001b[0;31m:\u001b[0m invalid syntax\n"
          ]
        }
      ]
    },
    {
      "cell_type": "code",
      "source": [
        "#suma\n",
        "a=10\n",
        "b=5\n",
        "print(a+b)\n"
      ],
      "metadata": {
        "colab": {
          "base_uri": "https://localhost:8080/"
        },
        "id": "b6uMnBUI79cm",
        "outputId": "006bf1d0-cba7-4c7b-8f73-208abe3b4109"
      },
      "execution_count": null,
      "outputs": [
        {
          "output_type": "stream",
          "name": "stdout",
          "text": [
            "15\n"
          ]
        }
      ]
    },
    {
      "cell_type": "code",
      "source": [
        "# resta\n",
        "c=a-b\n",
        "print(c)"
      ],
      "metadata": {
        "colab": {
          "base_uri": "https://localhost:8080/"
        },
        "id": "qSwbWGrp8XcT",
        "outputId": "2d97e24a-b76b-4004-82c0-44355655515a"
      },
      "execution_count": null,
      "outputs": [
        {
          "output_type": "stream",
          "name": "stdout",
          "text": [
            "5\n"
          ]
        }
      ]
    },
    {
      "cell_type": "code",
      "source": [
        "## Multiplicacion\n",
        "d=a*b\n",
        "print(d)"
      ],
      "metadata": {
        "colab": {
          "base_uri": "https://localhost:8080/"
        },
        "id": "-40YNi6i8f7W",
        "outputId": "cfe942fa-8125-42c1-e7b9-17abebdf5875"
      },
      "execution_count": null,
      "outputs": [
        {
          "output_type": "stream",
          "name": "stdout",
          "text": [
            "50\n"
          ]
        }
      ]
    },
    {
      "cell_type": "code",
      "source": [
        "#divicion\n",
        "e=a/b\n",
        "print(e)"
      ],
      "metadata": {
        "colab": {
          "base_uri": "https://localhost:8080/"
        },
        "id": "osa1pJGY8ryg",
        "outputId": "efbb6834-0b1f-450a-9f3c-5463c2d99e29"
      },
      "execution_count": null,
      "outputs": [
        {
          "output_type": "stream",
          "name": "stdout",
          "text": [
            "2.0\n"
          ]
        }
      ]
    },
    {
      "cell_type": "code",
      "source": [
        "#Divicion entera\n",
        "print(a//b)"
      ],
      "metadata": {
        "colab": {
          "base_uri": "https://localhost:8080/"
        },
        "id": "NuZG5iCtA7Q0",
        "outputId": "adee3d81-8df8-468e-b67d-d1e6db2f5678"
      },
      "execution_count": null,
      "outputs": [
        {
          "output_type": "stream",
          "name": "stdout",
          "text": [
            "2\n"
          ]
        }
      ]
    },
    {
      "cell_type": "code",
      "source": [
        "#modulo, residuo de una operacion\n",
        "print(a%b)"
      ],
      "metadata": {
        "colab": {
          "base_uri": "https://localhost:8080/"
        },
        "id": "7IZHmkdpBD-x",
        "outputId": "fcf69539-998c-4ec5-eb30-749ac6cf509e"
      },
      "execution_count": null,
      "outputs": [
        {
          "output_type": "stream",
          "name": "stdout",
          "text": [
            "0\n"
          ]
        }
      ]
    },
    {
      "cell_type": "code",
      "source": [
        "#Exponenciacion\n",
        "print(a**b)"
      ],
      "metadata": {
        "colab": {
          "base_uri": "https://localhost:8080/"
        },
        "id": "8E74pI4GBcOZ",
        "outputId": "b1b9fb47-71f7-458d-95dd-1cc33ecc82e5"
      },
      "execution_count": null,
      "outputs": [
        {
          "output_type": "stream",
          "name": "stdout",
          "text": [
            "100000\n"
          ]
        }
      ]
    },
    {
      "cell_type": "code",
      "source": [
        "#asignacion compuesta\n",
        "a+=b\n",
        "print(a)"
      ],
      "metadata": {
        "colab": {
          "base_uri": "https://localhost:8080/"
        },
        "id": "iPXlnWYjBnni",
        "outputId": "ddca5999-bc06-4e42-d829-73aa9ecef3d0"
      },
      "execution_count": null,
      "outputs": [
        {
          "output_type": "stream",
          "name": "stdout",
          "text": [
            "15\n"
          ]
        }
      ]
    },
    {
      "cell_type": "code",
      "source": [
        "a-=b\n",
        "print(a)"
      ],
      "metadata": {
        "colab": {
          "base_uri": "https://localhost:8080/"
        },
        "id": "W8dTaeUhB5Ra",
        "outputId": "bc1fb7a2-0381-4cc7-89cd-a7d89b72b7d0"
      },
      "execution_count": null,
      "outputs": [
        {
          "output_type": "stream",
          "name": "stdout",
          "text": [
            "10\n"
          ]
        }
      ]
    },
    {
      "cell_type": "code",
      "source": [
        "#redondeo\n",
        "var4=3.1410\n",
        "print(round(var4,2))"
      ],
      "metadata": {
        "colab": {
          "base_uri": "https://localhost:8080/"
        },
        "id": "r9NwX5mwChh_",
        "outputId": "f949bf74-1836-4574-9e51-fb2c0c5a0c70"
      },
      "execution_count": null,
      "outputs": [
        {
          "output_type": "stream",
          "name": "stdout",
          "text": [
            "3.14\n"
          ]
        }
      ]
    },
    {
      "cell_type": "code",
      "source": [
        "# el archivo va a esta aca\n"
      ],
      "metadata": {
        "id": "68sgPhvnDTBo"
      },
      "execution_count": null,
      "outputs": []
    },
    {
      "cell_type": "code",
      "source": [
        "#punto 2\n",
        "a=10\n",
        "b=3\n",
        "suma= a+b\n",
        "print(suma)"
      ],
      "metadata": {
        "colab": {
          "base_uri": "https://localhost:8080/"
        },
        "id": "i19wCSgpJSjk",
        "outputId": "223e7fd7-f126-41f6-ca40-b6d3d8e1627a"
      },
      "execution_count": null,
      "outputs": [
        {
          "output_type": "stream",
          "name": "stdout",
          "text": [
            "13\n"
          ]
        }
      ]
    },
    {
      "cell_type": "code",
      "source": [
        "## punto 3 resta\n",
        "\n",
        "a=10\n",
        "b=3\n",
        "Resta= a-b\n",
        "print(Resta)"
      ],
      "metadata": {
        "colab": {
          "base_uri": "https://localhost:8080/"
        },
        "id": "WvZZIXWrJkn5",
        "outputId": "4df1db32-4870-4e0b-e091-5924eaa9b574"
      },
      "execution_count": null,
      "outputs": [
        {
          "output_type": "stream",
          "name": "stdout",
          "text": [
            "7\n"
          ]
        }
      ]
    },
    {
      "cell_type": "code",
      "source": [
        "#punto 4\n",
        "a=10\n",
        "b=3\n",
        "Multiplicacion= a*b\n",
        "print(Multiplicacion)"
      ],
      "metadata": {
        "colab": {
          "base_uri": "https://localhost:8080/"
        },
        "id": "ioEusyosJx_U",
        "outputId": "4fb75db2-573a-4601-cb71-b4a32c214863"
      },
      "execution_count": null,
      "outputs": [
        {
          "output_type": "stream",
          "name": "stdout",
          "text": [
            "30\n"
          ]
        }
      ]
    },
    {
      "cell_type": "code",
      "source": [
        "#Punto 5\n",
        "a=10\n",
        "b=3\n",
        "divicion= a/b\n",
        "print(divicion)"
      ],
      "metadata": {
        "colab": {
          "base_uri": "https://localhost:8080/"
        },
        "id": "_m2mBhfWKCfd",
        "outputId": "da26b751-eea3-4c00-e3a1-08686ec990a7"
      },
      "execution_count": null,
      "outputs": [
        {
          "output_type": "stream",
          "name": "stdout",
          "text": [
            "3.3333333333333335\n"
          ]
        }
      ]
    },
    {
      "cell_type": "code",
      "source": [
        "#punto 6\n",
        "a=10\n",
        "b=3\n",
        "modulo= a%b\n",
        "print(modulo)"
      ],
      "metadata": {
        "colab": {
          "base_uri": "https://localhost:8080/"
        },
        "id": "PwKwsYhqKhWy",
        "outputId": "33bd1ec6-cbc4-4ccd-b1dd-61f916b2c700"
      },
      "execution_count": null,
      "outputs": [
        {
          "output_type": "stream",
          "name": "stdout",
          "text": [
            "1\n"
          ]
        }
      ]
    },
    {
      "cell_type": "code",
      "source": [
        "#punto 7\n",
        "a=10\n",
        "b=3\n",
        "potencia= a**b\n",
        "print(potencia)"
      ],
      "metadata": {
        "colab": {
          "base_uri": "https://localhost:8080/"
        },
        "id": "v3CryVfnLlu2",
        "outputId": "7a047d88-2708-40e3-f708-d3361b079824"
      },
      "execution_count": null,
      "outputs": [
        {
          "output_type": "stream",
          "name": "stdout",
          "text": [
            "1000\n"
          ]
        }
      ]
    },
    {
      "cell_type": "code",
      "source": [
        "#punto 8\n",
        "a=10\n",
        "b=3\n",
        "divicionentera= a//b\n",
        "print(divicionentera)"
      ],
      "metadata": {
        "colab": {
          "base_uri": "https://localhost:8080/"
        },
        "id": "IQ5mkVzmLwun",
        "outputId": "42c67d0d-12d3-4ba3-ac26-fc0c3cfd857c"
      },
      "execution_count": null,
      "outputs": [
        {
          "output_type": "stream",
          "name": "stdout",
          "text": [
            "3\n"
          ]
        }
      ]
    },
    {
      "cell_type": "code",
      "source": [
        "##5 Texto o valores string\n",
        "\n",
        "En python los valores de cadena se identifica a traves de \"STR\"\n"
      ],
      "metadata": {
        "colab": {
          "base_uri": "https://localhost:8080/",
          "height": 106
        },
        "id": "ZKaxCGvnMHgT",
        "outputId": "250bab05-be47-43b9-e40b-90351514bb0a"
      },
      "execution_count": null,
      "outputs": [
        {
          "output_type": "error",
          "ename": "SyntaxError",
          "evalue": "invalid syntax (<ipython-input-3-9d0d28b4db0d>, line 3)",
          "traceback": [
            "\u001b[0;36m  File \u001b[0;32m\"<ipython-input-3-9d0d28b4db0d>\"\u001b[0;36m, line \u001b[0;32m3\u001b[0m\n\u001b[0;31m    En python los valores de cadena se identifican a traves de 'STR'.\u001b[0m\n\u001b[0m       ^\u001b[0m\n\u001b[0;31mSyntaxError\u001b[0m\u001b[0;31m:\u001b[0m invalid syntax\n"
          ]
        }
      ]
    },
    {
      "cell_type": "code",
      "source": [
        "cadena-simple= 'Hola, mundo'\n",
        "cadena-doble= \"Hola, mundo\"\n",
        "cadena-multiple= \"\"\" esta es\n",
        " una cadena\n",
        "  que ocupa\n",
        "  varias lineas\"\"\""
      ],
      "metadata": {
        "colab": {
          "base_uri": "https://localhost:8080/",
          "height": 106
        },
        "id": "pbgEJOMFnu9N",
        "outputId": "2f9fb1aa-8ff7-40af-985c-7a7736454b4e"
      },
      "execution_count": 31,
      "outputs": [
        {
          "output_type": "error",
          "ename": "SyntaxError",
          "evalue": "cannot assign to expression here. Maybe you meant '==' instead of '='? (<ipython-input-31-ccb192dc651e>, line 1)",
          "traceback": [
            "\u001b[0;36m  File \u001b[0;32m\"<ipython-input-31-ccb192dc651e>\"\u001b[0;36m, line \u001b[0;32m1\u001b[0m\n\u001b[0;31m    cadena-simple= 'Hola, mundo'\u001b[0m\n\u001b[0m    ^\u001b[0m\n\u001b[0;31mSyntaxError\u001b[0m\u001b[0;31m:\u001b[0m cannot assign to expression here. Maybe you meant '==' instead of '='?\n"
          ]
        }
      ]
    },
    {
      "cell_type": "code",
      "source": [
        "#Operacion basicas con cadenas\n",
        "#La concatenacion\n",
        "saludo=\"hola\"\n",
        "nombre=\"mundo\"\n",
        "mensaje=saludo+\" , \"+nombre\n",
        "print(mensaje)"
      ],
      "metadata": {
        "colab": {
          "base_uri": "https://localhost:8080/"
        },
        "id": "tAfvFIzVogTn",
        "outputId": "87b9d9d7-7991-4868-dbff-9a551ff49bf9"
      },
      "execution_count": null,
      "outputs": [
        {
          "output_type": "stream",
          "name": "stdout",
          "text": [
            "hola , mundo\n"
          ]
        }
      ]
    },
    {
      "cell_type": "code",
      "source": [
        "#La repeticion\n",
        "repetir=\"hola\"*3\n",
        "print(repetir)"
      ],
      "metadata": {
        "colab": {
          "base_uri": "https://localhost:8080/"
        },
        "id": "xDBozSUIpZ57",
        "outputId": "886e943c-e849-453d-8444-df00079726e0"
      },
      "execution_count": null,
      "outputs": [
        {
          "output_type": "stream",
          "name": "stdout",
          "text": [
            "holaholahola\n"
          ]
        }
      ]
    },
    {
      "cell_type": "code",
      "source": [
        "# indexacion: acceder a caracteres individuales usando indices,\n",
        "primer_caracter= mensaje[0]\n",
        "print(primer_caracter)"
      ],
      "metadata": {
        "colab": {
          "base_uri": "https://localhost:8080/"
        },
        "id": "TdI9vnTRpt14",
        "outputId": "08880fb0-5f7c-4801-b6a3-ed1f2b6325f2"
      },
      "execution_count": 32,
      "outputs": [
        {
          "output_type": "stream",
          "name": "stdout",
          "text": [
            "h\n"
          ]
        }
      ]
    },
    {
      "cell_type": "code",
      "source": [
        "#slicing: obtine subcadenas usando una notacion de rango\n",
        "#obtener la palabra \"hola\" de la variable mensaje\n",
        "sub_cadena=mensaje[0:4]\n",
        "print(sub_cadena)"
      ],
      "metadata": {
        "colab": {
          "base_uri": "https://localhost:8080/"
        },
        "id": "Iphq6VaMqbgc",
        "outputId": "91469a5d-a773-4447-b824-35f12328d5f6"
      },
      "execution_count": null,
      "outputs": [
        {
          "output_type": "stream",
          "name": "stdout",
          "text": [
            "hola\n"
          ]
        }
      ]
    },
    {
      "cell_type": "code",
      "source": [
        "cadena=\"python es genial\"\n",
        "#metodos de cadenas\n",
        "#MAYUSCULAS\n",
        "print(cadena.upper())\n",
        "#minusculas\n",
        "print(cadena.lower())\n",
        "#tipo titulo\n",
        "print(cadena.strip())\n",
        "#reemplazo de caracteres\n",
        "print(cadena.replace(\"genial\",\"increible\"))\n",
        "#separacion de las cadenas\n",
        "print(cadena.split(\" \"))\n",
        "#union de cadenas\n",
        "print(\", \".join(['Python', 'es', 'genial']))"
      ],
      "metadata": {
        "colab": {
          "base_uri": "https://localhost:8080/"
        },
        "id": "pBts3p3CrKCA",
        "outputId": "2694d6dc-6ec0-4e99-8d6c-4b1bab0a3a6c"
      },
      "execution_count": null,
      "outputs": [
        {
          "output_type": "stream",
          "name": "stdout",
          "text": [
            "PYTHON ES GENIAL\n",
            "python es genial\n",
            "python es genial\n",
            "python es increible\n",
            "['python', 'es', 'genial']\n",
            "Python, es, genial\n"
          ]
        }
      ]
    },
    {
      "cell_type": "code",
      "source": [],
      "metadata": {
        "id": "fLFh1xcRs0GV"
      },
      "execution_count": null,
      "outputs": []
    },
    {
      "cell_type": "markdown",
      "source": [
        "##6. Estructura de datos"
      ],
      "metadata": {
        "id": "ofXW6nk3yOWE"
      }
    },
    {
      "cell_type": "markdown",
      "source": [
        "Las listas en Python son una de las estructuras de datos más utilizadas debido a su flexibilidad y capacidad para almacenar diferentes tipos de datos. Aquí te explico en detalle cómo funcionan las listas y cómo puedes utilizarlas"
      ],
      "metadata": {
        "id": "nmyXMM_SzeIv"
      }
    },
    {
      "cell_type": "code",
      "source": [
        "#creando una lista vacia\n",
        "mi_lista=[]\n",
        "\n",
        "#crear lista con elemento\n",
        "mi_lista=[1,2,3,\"cuatro\",5.0,True]\n",
        "\n",
        "#accediendo a elementos de la lista\n",
        "mi_lista = [10, 20, 30, 40, 50]\n",
        "\n",
        "#acceder al tercer elemento\n",
        "print(mi_lista[2])\n",
        "\n",
        "#acceder al ultimo elemento\n",
        "print(mi_lista[-1])\n"
      ],
      "metadata": {
        "colab": {
          "base_uri": "https://localhost:8080/"
        },
        "id": "ffbPKBDLz46w",
        "outputId": "b55515b4-bd83-4812-a6ff-029a83d565f9"
      },
      "execution_count": 23,
      "outputs": [
        {
          "output_type": "stream",
          "name": "stdout",
          "text": [
            "30\n",
            "50\n"
          ]
        }
      ]
    },
    {
      "cell_type": "code",
      "source": [
        "#Modificaciones de lista\n",
        "#Cambiar en mi lista el 30 por un 1\n",
        "mi_lista[2]=1\n",
        "print(mi_lista)"
      ],
      "metadata": {
        "colab": {
          "base_uri": "https://localhost:8080/"
        },
        "id": "8mgqZjt9zwQH",
        "outputId": "bab0774a-aec1-4295-fc2a-e77b969eda3f"
      },
      "execution_count": 24,
      "outputs": [
        {
          "output_type": "stream",
          "name": "stdout",
          "text": [
            "[10, 20, 1, 40, 50]\n"
          ]
        }
      ]
    },
    {
      "cell_type": "code",
      "source": [
        "#agregar nuevo elementos a una lista\n",
        "mi_lista=[1,2,3]\n",
        "\n",
        "#agregar un elemento al final de la lista\n",
        "mi_lista.append(4)\n",
        "print(mi_lista)"
      ],
      "metadata": {
        "colab": {
          "base_uri": "https://localhost:8080/"
        },
        "id": "L6sbuXEm4j6C",
        "outputId": "3f7ee63c-bc50-471b-b61a-d2248e41ef58"
      },
      "execution_count": 25,
      "outputs": [
        {
          "output_type": "stream",
          "name": "stdout",
          "text": [
            "[1, 2, 3, 4]\n"
          ]
        }
      ]
    },
    {
      "cell_type": "code",
      "source": [
        "#insertar un elemento en la lista en una posicion especifica\n",
        "mi_lista.insert(1,1.5)\n",
        "print(mi_lista)"
      ],
      "metadata": {
        "colab": {
          "base_uri": "https://localhost:8080/"
        },
        "id": "OpoPVwCM5RUR",
        "outputId": "dab7deb9-baf3-4997-ec04-8f551aeae491"
      },
      "execution_count": 26,
      "outputs": [
        {
          "output_type": "stream",
          "name": "stdout",
          "text": [
            "[1, 1.5, 2, 3, 4]\n"
          ]
        }
      ]
    },
    {
      "cell_type": "code",
      "source": [
        "#agregar varios elementos a ina lista\n",
        "mi_lista.extend([5,6])\n",
        "print(mi_lista)"
      ],
      "metadata": {
        "colab": {
          "base_uri": "https://localhost:8080/"
        },
        "id": "OjqyY2W351Xk",
        "outputId": "c19dd357-cd5b-420b-b536-34994fc8ed49"
      },
      "execution_count": 27,
      "outputs": [
        {
          "output_type": "stream",
          "name": "stdout",
          "text": [
            "[1, 1.5, 2, 3, 4, 5, 6]\n"
          ]
        }
      ]
    },
    {
      "cell_type": "code",
      "source": [
        "#elimina elementos\n",
        "mi_lista.remove(1)\n",
        "print(mi_lista)"
      ],
      "metadata": {
        "colab": {
          "base_uri": "https://localhost:8080/"
        },
        "id": "2bCSVmZ96Y6u",
        "outputId": "24ffd5d2-1941-48df-d3b1-c0ae89860793"
      },
      "execution_count": 29,
      "outputs": [
        {
          "output_type": "stream",
          "name": "stdout",
          "text": [
            "[1.5, 2, 3, 4, 5, 6]\n"
          ]
        }
      ]
    },
    {
      "cell_type": "code",
      "source": [
        "#eliminacion de elementos en una posicion especifica\n",
        "del mi_lista[0]\n",
        "print(mi_lista)"
      ],
      "metadata": {
        "colab": {
          "base_uri": "https://localhost:8080/"
        },
        "id": "S6eiT82k6hwe",
        "outputId": "d3533e67-a9ce-466d-e598-bd1587b4ad89"
      },
      "execution_count": 30,
      "outputs": [
        {
          "output_type": "stream",
          "name": "stdout",
          "text": [
            "[2, 3, 4, 5, 6]\n"
          ]
        }
      ]
    },
    {
      "cell_type": "code",
      "source": [
        "#TALLER 2\n",
        "#EJERCICIO 1\n",
        "numero=[1,2,3,4,5]\n",
        "print(numero)"
      ],
      "metadata": {
        "colab": {
          "base_uri": "https://localhost:8080/"
        },
        "id": "SQ8s4-eN8s2E",
        "outputId": "bc8ec033-ee40-483d-d863-4495127aec57"
      },
      "execution_count": 33,
      "outputs": [
        {
          "output_type": "stream",
          "name": "stdout",
          "text": [
            "[1, 2, 3, 4, 5]\n"
          ]
        }
      ]
    },
    {
      "cell_type": "code",
      "source": [
        "#AÑADIR\n",
        "\n",
        "numero.append(6)\n",
        "print(numero)"
      ],
      "metadata": {
        "colab": {
          "base_uri": "https://localhost:8080/"
        },
        "id": "ZXAyecLrCdpY",
        "outputId": "e4bc7884-09ee-4944-b8a7-ad8861c75a03"
      },
      "execution_count": 34,
      "outputs": [
        {
          "output_type": "stream",
          "name": "stdout",
          "text": [
            "[1, 2, 3, 4, 5, 6]\n"
          ]
        }
      ]
    },
    {
      "cell_type": "code",
      "source": [
        "#CAMBIA 10\n",
        "numero[1]=10\n",
        "print(numero)"
      ],
      "metadata": {
        "colab": {
          "base_uri": "https://localhost:8080/"
        },
        "id": "8fq442x2JIlV",
        "outputId": "305ae3c5-542c-4647-9c1e-82b6b2c180c6"
      },
      "execution_count": 35,
      "outputs": [
        {
          "output_type": "stream",
          "name": "stdout",
          "text": [
            "[1, 10, 3, 4, 5, 6]\n"
          ]
        }
      ]
    },
    {
      "cell_type": "code",
      "source": [
        "# ELIMINAR\n",
        "del numero [3]\n",
        "print(numero)"
      ],
      "metadata": {
        "colab": {
          "base_uri": "https://localhost:8080/"
        },
        "id": "BPYa_-WEJLYp",
        "outputId": "3506a524-f9c8-41f4-f7e7-f2513e8ba5b9"
      },
      "execution_count": 36,
      "outputs": [
        {
          "output_type": "stream",
          "name": "stdout",
          "text": [
            "[1, 10, 3, 5, 6]\n"
          ]
        }
      ]
    },
    {
      "cell_type": "code",
      "source": [
        "#EJERCICIO 2\n",
        "#1\n",
        "colores=(\"rojo\",\"verde\",\"azul\")\n",
        "\n",
        "#2\n",
        "print(colores[0])"
      ],
      "metadata": {
        "colab": {
          "base_uri": "https://localhost:8080/"
        },
        "id": "cPyX-fbCJNuM",
        "outputId": "316e0c72-fe96-4e12-e536-b0e9c842fec8"
      },
      "execution_count": 37,
      "outputs": [
        {
          "output_type": "stream",
          "name": "stdout",
          "text": [
            "rojo\n"
          ]
        }
      ]
    },
    {
      "cell_type": "code",
      "source": [
        "#Dicionarios\n",
        "En Python, los diccionarios son una estructura de datos muy versátil y útil.\n",
        "Son colecciones no ordenadas de pares clave-valor, donde cada clave es única y se asocia a un valor.\n",
        "Aquí te explico los aspectos básicos y algunas características avanzadas:"
      ],
      "metadata": {
        "id": "sV_fJBobJezr"
      },
      "execution_count": null,
      "outputs": []
    },
    {
      "cell_type": "code",
      "source": [
        "mi_diccionario={\n",
        "    \"nombre\":\"ana\",\n",
        "    \"edad\":30 ,\n",
        "    \"ciudad\":\"bogota\"\n",
        "     }\n",
        ""
      ],
      "metadata": {
        "id": "Z4ByD8MPJq_Y"
      },
      "execution_count": 43,
      "outputs": []
    },
    {
      "cell_type": "code",
      "source": [
        "#agregar elementos  a un diccionario\n",
        "inventario={}\n",
        "inventario[\"manzanas\"]=50\n",
        "inventario[\"naranjas\"]=30\n",
        "\n",
        "print(inventario)"
      ],
      "metadata": {
        "colab": {
          "base_uri": "https://localhost:8080/"
        },
        "id": "w9JwH7muJuRb",
        "outputId": "bcef5bd4-bf5f-4344-d17f-04a20a529064"
      },
      "execution_count": 40,
      "outputs": [
        {
          "output_type": "stream",
          "name": "stdout",
          "text": [
            "{'manzanas': 50, 'naranjas': 30}\n"
          ]
        }
      ]
    },
    {
      "cell_type": "code",
      "source": [
        "#acceso a los elementos se hace a partir del nombre  de elemento\n",
        "print(mi_diccionario[\"edad\"])"
      ],
      "metadata": {
        "colab": {
          "base_uri": "https://localhost:8080/"
        },
        "id": "FiXBKcntJw78",
        "outputId": "e8a25ae4-a2f9-446b-9042-fa060af882ee"
      },
      "execution_count": 44,
      "outputs": [
        {
          "output_type": "stream",
          "name": "stdout",
          "text": [
            "30\n"
          ]
        }
      ]
    },
    {
      "cell_type": "code",
      "source": [
        "#modificar un elemento de u diccionario\n",
        "mi_diccionario[\"edad\"]=31\n",
        "print(mi_diccionario)"
      ],
      "metadata": {
        "colab": {
          "base_uri": "https://localhost:8080/"
        },
        "id": "CM6X7HsaJ0MW",
        "outputId": "2df6e5df-236c-4da0-f34f-690172fa35c1"
      },
      "execution_count": 45,
      "outputs": [
        {
          "output_type": "stream",
          "name": "stdout",
          "text": [
            "{'nombre': 'ana', 'edad': 31, 'ciudad': 'bogota'}\n"
          ]
        }
      ]
    },
    {
      "cell_type": "code",
      "source": [
        "#eliminar elementos del diccionario\n",
        "del mi_diccionario[\"ciudad\"]\n",
        "print(mi_diccionario)"
      ],
      "metadata": {
        "colab": {
          "base_uri": "https://localhost:8080/"
        },
        "id": "zbskTH2bKQkq",
        "outputId": "1f8998b5-4068-40ea-f356-14c9a452c180"
      },
      "execution_count": 46,
      "outputs": [
        {
          "output_type": "stream",
          "name": "stdout",
          "text": [
            "{'nombre': 'ana', 'edad': 31}\n"
          ]
        }
      ]
    },
    {
      "cell_type": "code",
      "source": [],
      "metadata": {
        "id": "t0HdbxIUKVDc"
      },
      "execution_count": null,
      "outputs": []
    }
  ]
}