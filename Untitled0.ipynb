{
  "nbformat": 4,
  "nbformat_minor": 0,
  "metadata": {
    "colab": {
      "provenance": [],
      "toc_visible": true
    },
    "kernelspec": {
      "name": "python3",
      "display_name": "Python 3"
    },
    "language_info": {
      "name": "python"
    }
  },
  "cells": [
    {
      "cell_type": "code",
      "execution_count": null,
      "metadata": {
        "id": "tlwnH9URorT3"
      },
      "outputs": [],
      "source": []
    },
    {
      "cell_type": "markdown",
      "source": [
        "**Introducción a python**\n",
        "\n",
        "Diplomado en Gobierno y Analitica de Datos\n",
        "\n",
        "Fundacion Universitaria Cafam\n",
        "\n",
        "Docente: Nicolas Mojica Gomez\n",
        "\n",
        "Estudiante: Camilo Andres Pardo Mercado\n",
        "\n",
        "\n",
        "---\n",
        "\n"
      ],
      "metadata": {
        "id": "1dgTZtrCqtdO"
      }
    },
    {
      "cell_type": "markdown",
      "source": [
        "## 1. Comentario en los códigos\n",
        "\n",
        "Para comentar códigos en python existen diferentes formas de crear comentarios, esto nos permite comentar nustras secuencias de comandos para su analisis o posterior modificación."
      ],
      "metadata": {
        "id": "_5g8w41vvfBi"
      }
    },
    {
      "cell_type": "code",
      "source": [
        "#Este cometario es de una sola linea\n",
        "#Python es un programa sencible a las mayusculas y las minuscula\n",
        "print(\"Hola mundo\")"
      ],
      "metadata": {
        "colab": {
          "base_uri": "https://localhost:8080/"
        },
        "id": "s5Gom5XQvfxi",
        "outputId": "9018cd07-37ad-4c7e-b2f8-9bf2514798d2"
      },
      "execution_count": 1,
      "outputs": [
        {
          "output_type": "stream",
          "name": "stdout",
          "text": [
            "Hola mundo\n"
          ]
        }
      ]
    },
    {
      "cell_type": "code",
      "source": [
        "'''\n",
        "Este es un comentario de multiple lineas\n",
        "puede extenderse en varias linea\n",
        "'''\n",
        "print(\"Hola mundo\")"
      ],
      "metadata": {
        "colab": {
          "base_uri": "https://localhost:8080/"
        },
        "id": "i-MvtzC2vv_y",
        "outputId": "0a049509-28b6-4e73-8ac0-56685f9595ef"
      },
      "execution_count": 2,
      "outputs": [
        {
          "output_type": "stream",
          "name": "stdout",
          "text": [
            "Hola mundo\n"
          ]
        }
      ]
    },
    {
      "cell_type": "code",
      "source": [],
      "metadata": {
        "id": "inojPZDRwTip"
      },
      "execution_count": null,
      "outputs": []
    },
    {
      "cell_type": "markdown",
      "source": [
        "## 2. Variables\n",
        "\n",
        "una variable es un elemento de un leguaje de programacion que tiene asgnado un valor determinado"
      ],
      "metadata": {
        "id": "ehXNc7YxwWMY"
      }
    },
    {
      "cell_type": "code",
      "source": [
        "## Para crear una variable en python se le debe proporcionar un nombre y se le debe asignar un valor usando un \"=\"\n",
        "var=\"Hola mundo\"\n",
        "print(var)"
      ],
      "metadata": {
        "colab": {
          "base_uri": "https://localhost:8080/"
        },
        "id": "yyPG1pu5w2FF",
        "outputId": "f6e49a9f-1ec3-44df-ae03-01dec5303d5e"
      },
      "execution_count": 4,
      "outputs": [
        {
          "output_type": "stream",
          "name": "stdout",
          "text": [
            "Hola mundo\n"
          ]
        }
      ]
    },
    {
      "cell_type": "code",
      "source": [
        "## Las variables puede cambiar a lo largo del programa en python\n",
        "var=\"Adios mundo\"\n",
        "print(var)"
      ],
      "metadata": {
        "colab": {
          "base_uri": "https://localhost:8080/"
        },
        "id": "6SZevTDfxb4m",
        "outputId": "62045e01-dee2-40d6-92e4-10b73ed30d96"
      },
      "execution_count": 5,
      "outputs": [
        {
          "output_type": "stream",
          "name": "stdout",
          "text": [
            "Adios mundo\n"
          ]
        }
      ]
    },
    {
      "cell_type": "code",
      "source": [
        "## Las variables en python son sencibles a las mayuculas y a las minuscula\n"
      ],
      "metadata": {
        "id": "VF8tRaBByEt3"
      },
      "execution_count": null,
      "outputs": []
    },
    {
      "cell_type": "markdown",
      "source": [
        "3. Tipos de datos"
      ],
      "metadata": {
        "id": "RnOXgTH96tIs"
      }
    },
    {
      "cell_type": "code",
      "source": [
        "#tipos de datos numericos\n",
        "entero=42\n",
        "# en la mayor parte de lenguaje de programacion los enteros son representados con \"int\n"
      ],
      "metadata": {
        "id": "cSAcoEph6wy-"
      },
      "execution_count": 6,
      "outputs": []
    },
    {
      "cell_type": "code",
      "source": [
        "# tipo de datos flotante\n",
        "flotante=3.14151"
      ],
      "metadata": {
        "id": "NsoQ9TUK7B-r"
      },
      "execution_count": 7,
      "outputs": []
    },
    {
      "cell_type": "code",
      "source": [
        "#conversion de los tipos de datos\n",
        "#convertir un flotante a un numero entero\n",
        "entero=int(3.14)\n",
        "print(entero)\n",
        ""
      ],
      "metadata": {
        "colab": {
          "base_uri": "https://localhost:8080/"
        },
        "id": "nOzGpBXz7OxD",
        "outputId": "3e84b7d1-a0ea-4159-c7ae-bde664db0956"
      },
      "execution_count": 8,
      "outputs": [
        {
          "output_type": "stream",
          "name": "stdout",
          "text": [
            "3\n"
          ]
        }
      ]
    },
    {
      "cell_type": "code",
      "source": [
        "#converti entero a flotante\n",
        "flotante=float(5)\n",
        "print(flotante)"
      ],
      "metadata": {
        "colab": {
          "base_uri": "https://localhost:8080/"
        },
        "id": "NobUPipH7n9r",
        "outputId": "483922cc-4540-4ed6-ec40-223e66432f86"
      },
      "execution_count": 9,
      "outputs": [
        {
          "output_type": "stream",
          "name": "stdout",
          "text": [
            "5.0\n"
          ]
        }
      ]
    },
    {
      "cell_type": "code",
      "source": [
        "##4. Operadores aritmeticos\n",
        "\n"
      ],
      "metadata": {
        "colab": {
          "base_uri": "https://localhost:8080/",
          "height": 106
        },
        "id": "L32uHRu97w3n",
        "outputId": "d4e82693-e224-43d5-c058-1bf7fdf876aa"
      },
      "execution_count": 10,
      "outputs": [
        {
          "output_type": "error",
          "ename": "SyntaxError",
          "evalue": "invalid syntax (<ipython-input-10-1d32d96f52aa>, line 3)",
          "traceback": [
            "\u001b[0;36m  File \u001b[0;32m\"<ipython-input-10-1d32d96f52aa>\"\u001b[0;36m, line \u001b[0;32m3\u001b[0m\n\u001b[0;31m    Los operadoresmatemetico\u001b[0m\n\u001b[0m        ^\u001b[0m\n\u001b[0;31mSyntaxError\u001b[0m\u001b[0;31m:\u001b[0m invalid syntax\n"
          ]
        }
      ]
    },
    {
      "cell_type": "code",
      "source": [
        "#suma\n",
        "a=10\n",
        "b=5\n",
        "print(a+b)\n"
      ],
      "metadata": {
        "colab": {
          "base_uri": "https://localhost:8080/"
        },
        "id": "b6uMnBUI79cm",
        "outputId": "006bf1d0-cba7-4c7b-8f73-208abe3b4109"
      },
      "execution_count": 11,
      "outputs": [
        {
          "output_type": "stream",
          "name": "stdout",
          "text": [
            "15\n"
          ]
        }
      ]
    },
    {
      "cell_type": "code",
      "source": [
        "# resta\n",
        "c=a-b\n",
        "print(c)"
      ],
      "metadata": {
        "colab": {
          "base_uri": "https://localhost:8080/"
        },
        "id": "qSwbWGrp8XcT",
        "outputId": "2d97e24a-b76b-4004-82c0-44355655515a"
      },
      "execution_count": 12,
      "outputs": [
        {
          "output_type": "stream",
          "name": "stdout",
          "text": [
            "5\n"
          ]
        }
      ]
    },
    {
      "cell_type": "code",
      "source": [
        "## Multiplicacion\n",
        "d=a*b\n",
        "print(d)"
      ],
      "metadata": {
        "colab": {
          "base_uri": "https://localhost:8080/"
        },
        "id": "-40YNi6i8f7W",
        "outputId": "cfe942fa-8125-42c1-e7b9-17abebdf5875"
      },
      "execution_count": 15,
      "outputs": [
        {
          "output_type": "stream",
          "name": "stdout",
          "text": [
            "50\n"
          ]
        }
      ]
    },
    {
      "cell_type": "code",
      "source": [
        "#divicion\n",
        "e=a/b\n",
        "print(e)"
      ],
      "metadata": {
        "colab": {
          "base_uri": "https://localhost:8080/"
        },
        "id": "osa1pJGY8ryg",
        "outputId": "efbb6834-0b1f-450a-9f3c-5463c2d99e29"
      },
      "execution_count": 16,
      "outputs": [
        {
          "output_type": "stream",
          "name": "stdout",
          "text": [
            "2.0\n"
          ]
        }
      ]
    },
    {
      "cell_type": "code",
      "source": [
        "#Divicion entera\n",
        "print(a//b)"
      ],
      "metadata": {
        "colab": {
          "base_uri": "https://localhost:8080/"
        },
        "id": "NuZG5iCtA7Q0",
        "outputId": "adee3d81-8df8-468e-b67d-d1e6db2f5678"
      },
      "execution_count": 17,
      "outputs": [
        {
          "output_type": "stream",
          "name": "stdout",
          "text": [
            "2\n"
          ]
        }
      ]
    },
    {
      "cell_type": "code",
      "source": [
        "#modulo, residuo de una operacion\n",
        "print(a%b)"
      ],
      "metadata": {
        "colab": {
          "base_uri": "https://localhost:8080/"
        },
        "id": "7IZHmkdpBD-x",
        "outputId": "fcf69539-998c-4ec5-eb30-749ac6cf509e"
      },
      "execution_count": 18,
      "outputs": [
        {
          "output_type": "stream",
          "name": "stdout",
          "text": [
            "0\n"
          ]
        }
      ]
    },
    {
      "cell_type": "code",
      "source": [
        "#Exponenciacion\n",
        "print(a**b)"
      ],
      "metadata": {
        "colab": {
          "base_uri": "https://localhost:8080/"
        },
        "id": "8E74pI4GBcOZ",
        "outputId": "b1b9fb47-71f7-458d-95dd-1cc33ecc82e5"
      },
      "execution_count": 19,
      "outputs": [
        {
          "output_type": "stream",
          "name": "stdout",
          "text": [
            "100000\n"
          ]
        }
      ]
    },
    {
      "cell_type": "code",
      "source": [
        "#asignacion compuesta\n",
        "a+=b\n",
        "print(a)"
      ],
      "metadata": {
        "colab": {
          "base_uri": "https://localhost:8080/"
        },
        "id": "iPXlnWYjBnni",
        "outputId": "ddca5999-bc06-4e42-d829-73aa9ecef3d0"
      },
      "execution_count": 20,
      "outputs": [
        {
          "output_type": "stream",
          "name": "stdout",
          "text": [
            "15\n"
          ]
        }
      ]
    },
    {
      "cell_type": "code",
      "source": [
        "a-=b\n",
        "print(a)"
      ],
      "metadata": {
        "colab": {
          "base_uri": "https://localhost:8080/"
        },
        "id": "W8dTaeUhB5Ra",
        "outputId": "bc1fb7a2-0381-4cc7-89cd-a7d89b72b7d0"
      },
      "execution_count": 21,
      "outputs": [
        {
          "output_type": "stream",
          "name": "stdout",
          "text": [
            "10\n"
          ]
        }
      ]
    },
    {
      "cell_type": "code",
      "source": [
        "#redondeo\n",
        "var4=3.1410\n",
        "print(round(var4,2))"
      ],
      "metadata": {
        "colab": {
          "base_uri": "https://localhost:8080/"
        },
        "id": "r9NwX5mwChh_",
        "outputId": "f949bf74-1836-4574-9e51-fb2c0c5a0c70"
      },
      "execution_count": 22,
      "outputs": [
        {
          "output_type": "stream",
          "name": "stdout",
          "text": [
            "3.14\n"
          ]
        }
      ]
    },
    {
      "cell_type": "code",
      "source": [],
      "metadata": {
        "id": "68sgPhvnDTBo"
      },
      "execution_count": null,
      "outputs": []
    }
  ]
}