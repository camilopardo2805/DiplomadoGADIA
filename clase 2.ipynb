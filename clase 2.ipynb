{
  "nbformat": 4,
  "nbformat_minor": 0,
  "metadata": {
    "colab": {
      "provenance": [],
      "toc_visible": true,
      "authorship_tag": "ABX9TyORi+f4DA0hAOVfN6TJ246P",
      "include_colab_link": true
    },
    "kernelspec": {
      "name": "python3",
      "display_name": "Python 3"
    },
    "language_info": {
      "name": "python"
    }
  },
  "cells": [
    {
      "cell_type": "markdown",
      "metadata": {
        "id": "view-in-github",
        "colab_type": "text"
      },
      "source": [
        "<a href=\"https://colab.research.google.com/github/camilopardo2805/DiplomadoGADIA/blob/main/clase%202.ipynb\" target=\"_parent\"><img src=\"https://colab.research.google.com/assets/colab-badge.svg\" alt=\"Open In Colab\"/></a>"
      ]
    },
    {
      "cell_type": "code",
      "execution_count": null,
      "metadata": {
        "id": "Rx7wBQWrc60Z"
      },
      "outputs": [],
      "source": [
        "**CONDICIONALES, FUNCIONES Y MANEJO DE ERRORES**"
      ]
    },
    {
      "cell_type": "markdown",
      "source": [
        "Curso a python\n",
        "\n",
        "Diplomado en Gobierno y Analitica de Datos\n",
        "\n",
        "Fundacion Universitaria Cafam\n",
        "\n",
        "Docente: Nicolas Mojica Gomez\n",
        "\n",
        "Estudiante: Camilo Andres Pardo Mercado\n",
        "\n",
        "---\n",
        "\n"
      ],
      "metadata": {
        "id": "asp9BJWsc8KW"
      }
    },
    {
      "cell_type": "code",
      "source": [
        "#generar un programa que clasifica la edad introducida por el susuario entre mayor y menor de edad\n",
        "Edad=int(input(\"Por favor ingresa tu edad\"))\n",
        "if Edad <18:\n",
        "  print(\"Eres menor de edad\")\n",
        "else :\n",
        "  print(\"Eres mayor de edad\")\n"
      ],
      "metadata": {
        "colab": {
          "base_uri": "https://localhost:8080/"
        },
        "id": "U8csOKNbc9aC",
        "outputId": "6f53f0d4-bc9a-43a4-fc0e-985b06a39ea2"
      },
      "execution_count": 2,
      "outputs": [
        {
          "output_type": "stream",
          "name": "stdout",
          "text": [
            "Por favor ingresa tu edad18\n",
            "Eres mayor de edad\n"
          ]
        }
      ]
    },
    {
      "cell_type": "code",
      "source": [],
      "metadata": {
        "id": "yB3Upi20dvRR"
      },
      "execution_count": 2,
      "outputs": []
    }
  ]
}